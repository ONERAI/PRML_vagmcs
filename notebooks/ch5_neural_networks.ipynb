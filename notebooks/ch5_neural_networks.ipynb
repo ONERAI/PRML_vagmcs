{
 "cells": [
  {
   "cell_type": "markdown",
   "id": "1e9c3bb4",
   "metadata": {},
   "source": [
    "# 5. Neural Networks\n",
    "\n",
    "### *Table of Contents*"
   ]
  },
  {
   "cell_type": "code",
   "execution_count": 1,
   "id": "7c6857fd",
   "metadata": {},
   "outputs": [],
   "source": [
    "import math\n",
    "import numpy as np\n",
    "import matplotlib.pyplot as plt\n",
    "\n",
    "# Set random seed to make deterministic\n",
    "np.random.seed(0)\n",
    "\n",
    "# Ignore zero divisions and computation involving NaN values.\n",
    "np.seterr(divide = 'ignore', invalid='ignore')\n",
    "\n",
    "# Enable higher resolution plots\n",
    "%config InlineBackend.figure_format = 'retina'\n",
    "\n",
    "# Enable autoreload all modules before executing code\n",
    "%load_ext autoreload\n",
    "%autoreload 2"
   ]
  },
  {
   "cell_type": "code",
   "execution_count": null,
   "id": "51d80e54",
   "metadata": {},
   "outputs": [],
   "source": []
  }
 ],
 "metadata": {
  "kernelspec": {
   "display_name": "Python 3 (ipykernel)",
   "language": "python",
   "name": "python3"
  },
  "language_info": {
   "codemirror_mode": {
    "name": "ipython",
    "version": 3
   },
   "file_extension": ".py",
   "mimetype": "text/x-python",
   "name": "python",
   "nbconvert_exporter": "python",
   "pygments_lexer": "ipython3",
   "version": "3.9.13"
  }
 },
 "nbformat": 4,
 "nbformat_minor": 5
}
