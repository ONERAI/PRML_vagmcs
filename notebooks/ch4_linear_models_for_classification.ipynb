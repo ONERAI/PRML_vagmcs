{
 "cells": [
  {
   "cell_type": "markdown",
   "id": "1d68e20b",
   "metadata": {},
   "source": [
    "# 3. Linear Models for Classification\n",
    "\n",
    "### *Table of Contents*\n",
    "* 4.1 [Discriminant Functions](#4.1-Discriminant-Functions)\n",
    "* 4.2 [Probabilistic Generative Models](#4.2-Probabilistic-Generative-Models)\n",
    "* 4.3 [Probabilistic Discriminative Models](#4.3-Probabilistic-Discriminative-Models)\n",
    "* 4.4 [Laplace Approximation](#4.4-Laplace-Approximation)"
   ]
  },
  {
   "cell_type": "code",
   "execution_count": 1,
   "id": "dfa8d03c",
   "metadata": {},
   "outputs": [],
   "source": [
    "import math\n",
    "import numpy as np\n",
    "import matplotlib.pyplot as plt\n",
    "\n",
    "# Set random seed to make deterministic\n",
    "np.random.seed(0)\n",
    "\n",
    "# Ignore zero divisions and computation involving NaN values.\n",
    "np.seterr(divide = 'ignore', invalid='ignore')\n",
    "\n",
    "# Enable higher resolution plots\n",
    "%config InlineBackend.figure_format = 'retina'"
   ]
  },
  {
   "cell_type": "code",
   "execution_count": null,
   "id": "3b68f6bb",
   "metadata": {},
   "outputs": [],
   "source": []
  }
 ],
 "metadata": {
  "kernelspec": {
   "display_name": ".venv",
   "language": "python",
   "name": ".venv"
  },
  "language_info": {
   "codemirror_mode": {
    "name": "ipython",
    "version": 3
   },
   "file_extension": ".py",
   "mimetype": "text/x-python",
   "name": "python",
   "nbconvert_exporter": "python",
   "pygments_lexer": "ipython3",
   "version": "3.9.7"
  }
 },
 "nbformat": 4,
 "nbformat_minor": 5
}
