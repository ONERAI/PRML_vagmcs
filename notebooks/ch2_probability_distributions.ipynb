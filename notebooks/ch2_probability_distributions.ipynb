{
 "cells": [
  {
   "cell_type": "markdown",
   "metadata": {
    "collapsed": true,
    "pycharm": {
     "name": "#%% md\n"
    }
   },
   "source": [
    "# 2. Probability Distributions"
   ]
  },
  {
   "cell_type": "code",
   "execution_count": 1,
   "metadata": {
    "pycharm": {
     "name": "#%%\n"
    }
   },
   "outputs": [],
   "source": [
    "import numpy as np\n",
    "import matplotlib.pyplot as plt\n",
    "\n",
    "from prml.distribution import (\n",
    "    Bernoulli,\n",
    "    Binomial\n",
    ")\n",
    "\n",
    "# Set random seed to make deterministic\n",
    "np.random.seed(0)"
   ]
  },
  {
   "cell_type": "markdown",
   "metadata": {
    "pycharm": {
     "name": "#%% md\n"
    }
   },
   "source": [
    "## 2.1 Binary Variables\n",
    "\n",
    "Consider a single binary random variable $x \\in \\{0, 1\\}$, for instance $x$ might be the outcome of flipping a coin. Then, the probability of heads ($x=1$) can be denoted by a parameter $\\mu$ so that,\n",
    "\n",
    "$$\n",
    "p(x=1|\\mu) = \\mu\n",
    "$$\n",
    "\n",
    "where $0 \\leq \\mu \\leq 1$. The *Bernoulli* probability distribution over $x$ can therefore be as follows,\n",
    "\n",
    "$$\n",
    "\\text{Bern}(x|\\mu) = \\mu^x(1-\\mu)^{1-x}\n",
    "$$\n",
    "\n",
    "It is easily verified that the Bernoulli distribution has mean given by,\n",
    "\n",
    "$$\n",
    "\\mathbb{E}[x] = \\sum_{x \\in \\{0, 1\\}} x\\text{Bern}(x|\\mu) =\n",
    "\\sum_{x \\in \\{0, 1\\}} x\\mu^x(1-\\mu)^{1-x} =\n",
    "\\mu^1(1-\\mu)^0 =\n",
    "\\mu\n",
    "$$\n",
    "\n",
    "and variance given by,\n",
    "\n",
    "$$\n",
    "\\begin{align*}\n",
    "\\text{var}[x] &= \\mathbb{E}[x]^2 - \\mathbb{E}[x^2] \\\\\n",
    "&= \\mu^2 - \\sum_{x \\in \\{0, 1\\}} x^2\\text{Bern}(x|\\mu) \\\\\n",
    "&= \\mu^2 - \\sum_{x \\in \\{0, 1\\}} x^2\\mu^x(1-\\mu)^{1-x} \\\\\n",
    "&= \\mu^2 - \\mu = \\mu(\\mu - 1)\n",
    "\\end{align*}\n",
    "$$\n",
    "\n",
    "Now suppose we have given a data set $\\mathcal{D} = \\{x_1,\\dots,x_N\\}$ of observed values sampled from an **unknown** Bernoulli distribution, that is, the $\\mu$ parameter (probability of heads) is unknown."
   ]
  },
  {
   "cell_type": "code",
   "execution_count": 2,
   "metadata": {
    "pycharm": {
     "name": "#%%\n"
    }
   },
   "outputs": [
    {
     "data": {
      "image/png": "[encoded data removed]",
      "text/plain": [
       "<Figure size 432x288 with 1 Axes>"
      ]
     },
     "metadata": {
      "needs_background": "light"
     },
     "output_type": "display_data"
    }
   ],
   "source": [
    "N = 10\n",
    "mu = 0.25\n",
    "true_distribution = Bernoulli(mu)\n",
    "D = true_distribution.draw(N)\n",
    "\n",
    "plt.hist(D, 2, rwidth=0.85, color=\"steelblue\")\n",
    "plt.ylabel(\"Number of observed outcomes\", fontsize=14)\n",
    "plt.xticks([0.25, 0.75], [\"Tails\", \"Heads\"], fontsize=14)\n",
    "plt.show()"
   ]
  },
  {
   "cell_type": "markdown",
   "metadata": {},
   "source": [
    "We can use the likelihood function on the assumption that the observations are drawn independently from $\\text{Bern}(x|\\mu)$, so that,\n",
    "\n",
    "$$\n",
    "p(\\mathcal{D}|\\mu) = \\prod_{n=1}^N \\text{Bern}(x_n|\\mu) = \\prod_{n=1}^N \\mu^{x_n}(1-\\mu)^{1-x_n}\n",
    "$$\n",
    "\n",
    "Then, following the frequintist approach, we can estimate the value of $\\mu$ by maximizing the logarithm of the likelihood given by\n",
    "\n",
    "$$\n",
    "\\begin{align*}\n",
    "\\ln p(\\mathcal{D}|\\mu) &= \\ln \\bigg( \\prod_{n=1}^N \\mu^{x_n}(1-\\mu)^{1-x_n} \\bigg) \\\\\n",
    "&= \\sum_{n=1}^N \\ln \\big( \\mu^{x_n}(1-\\mu)^{1-x_n} \\big) \\\\\n",
    "&= \\sum_{n=1}^N \\bigg( \\ln \\big( \\mu^{x_n} \\big) + \\ln \\big( (1-\\mu)^{1-x_n} \\big) \\bigg) \\\\\n",
    "&= \\sum_{n=1}^N \\bigg( x_n\\ln\\mu + (1-x_n)\\ln(1-\\mu) \\bigg) \n",
    "\\end{align*}\n",
    "$$\n",
    "\n",
    "If we set the derivative of $\\ln p(\\mathcal{D}|\\mu)$ with respect to $\\mu$ equal to zero, we obtain\n",
    "\n",
    "$$\n",
    "\\begin{align*}\n",
    "&\\frac{\\partial}{\\partial\\mu} \\ln p(\\mathcal{D}|\\mu) = 0 \\Leftrightarrow \\\\\n",
    "&\\frac{\\partial}{\\partial\\mu} \\sum_{n=1}^N \\bigg( x_n\\ln\\mu + (1-x_n)\\ln(1-\\mu) \\bigg) = 0 \\Leftrightarrow \\\\\n",
    "&\\sum_{n=1}^N  \\frac{\\partial}{\\partial\\mu} \\bigg( x_n\\ln\\mu + (1-x_n)\\ln(1-\\mu) \\bigg) = 0 \\Leftrightarrow \\\\\n",
    "&\\sum_{n=1}^N  \\bigg( \\frac{1}{\\mu}x_n - \\frac{1}{1 - \\mu}(1-x_n) \\bigg) = 0 \\Leftrightarrow \\\\\n",
    "&\\sum_{n=1}^N  \\bigg( \\frac{1}{\\mu}x_n - \\frac{1}{1 - \\mu} + \\frac{1}{1 - \\mu}x_n \\bigg) = 0\\Leftrightarrow \\\\\n",
    "&\\sum_{n=1}^N  \\bigg( \\frac{1}{\\mu}x_n + \\frac{1}{1 - \\mu}x_n \\bigg) = \\frac{N}{1 - \\mu} \\Leftrightarrow \\\\\n",
    "&\\sum_{n=1}^N  \\bigg( \\frac{1 - \\mu}{\\mu}x_n + x_n \\bigg) = N \\Leftrightarrow \\\\\n",
    "&\\sum_{n=1}^N \\frac{1}{\\mu}x_n = N \\Leftrightarrow \\\\\n",
    "&\\mu_{ML} = \\frac{1}{N}\\sum_{n=1}^N x_n\n",
    "\\end{align*}\n",
    "$$\n",
    "\n",
    "which is known as the *sample mean*. Thus, the probability of landing heads ($\\mu$), according to the maximum likelihood estimator, is given by the fraction of observations of heads in the data set $\\mathcal{D}$. A problem that arises from this result is that for small datasets the estimation can be unreasonable. For instance, in the figure below, note that for small datasets $N < 100$, the estimated $\\mu_{\\text{ML}}$ can deviate significantly from the true $\\mu$ leading to incorrect probabilities for the future observations."
   ]
  },
  {
   "cell_type": "code",
   "execution_count": 3,
   "metadata": {
    "pycharm": {
     "name": "#%%\n"
    }
   },
   "outputs": [
    {
     "data": {
      "image/png": "[encoded data removed]",
      "text/plain": [
       "<Figure size 432x288 with 1 Axes>"
      ]
     },
     "metadata": {
      "needs_background": "light"
     },
     "output_type": "display_data"
    }
   ],
   "source": [
    "ml_model = Bernoulli()\n",
    "samples = list(range(10, 1000, 10))\n",
    "mu_estimations = []\n",
    "\n",
    "for N in samples:\n",
    "    D = true_distribution.draw(N)\n",
    "    ml_model.ml(D)\n",
    "    mu_estimations.append(ml_model.mu)\n",
    "    \n",
    "plt.plot(samples, [mu for N in samples], color=\"g\", label=\"True $\\mu$\")\n",
    "plt.plot(samples, mu_estimations, color=\"r\", linestyle=\":\", label=\"Maximum likelihood $\\mu$\")\n",
    "plt.xlabel(\"#samples\", fontsize=14); plt.ylabel(\"$\\mu_{\\mathrm{ML}}$\", fontsize=14)\n",
    "plt.ylim([min(mu_estimations), max(mu_estimations)])\n",
    "plt.legend(fontsize=14); plt.show()"
   ]
  },
  {
   "cell_type": "markdown",
   "metadata": {
    "pycharm": {
     "name": "#%% md\n"
    }
   },
   "source": [
    "Another useful distribution is the one describing the number of $m$ observations of $x=1$ given a sample dataset of size $N$. This is called the *Binomial* distribution, and is given by\n",
    "\n",
    "$$\n",
    "\\text{Bin}(m|N,\\mu) = \n",
    "\\left(\\!\n",
    "    \\begin{array}{c}\n",
    "      N \\\\\n",
    "      m\n",
    "    \\end{array}\n",
    "\\!\\right)\n",
    "\\mu^m(1 - \\mu)^{N-m}\n",
    "$$\n",
    "\n",
    "where\n",
    "\n",
    "$$\n",
    "\\left(\\!\n",
    "    \\begin{array}{c}\n",
    "      N \\\\\n",
    "      m\n",
    "    \\end{array}\n",
    "\\!\\right)\n",
    "= \\frac{N!}{(N-m)!m!}\n",
    "$$\n",
    "\n",
    "is the numbers of ways of choosing $m$ objects out of a total of $N$ identical objects."
   ]
  },
  {
   "cell_type": "code",
   "execution_count": 9,
   "metadata": {
    "pycharm": {
     "name": "#%%\n"
    }
   },
   "outputs": [
    {
     "name": "stdout",
     "output_type": "stream",
     "text": [
      "[5 2 3 0 3 2 3 2 1 2]\n"
     ]
    },
    {
     "data": {
      "image/png": "[encoded data removed]",
      "text/plain": [
       "<Figure size 432x288 with 1 Axes>"
      ]
     },
     "metadata": {
      "needs_background": "light"
     },
     "output_type": "display_data"
    }
   ],
   "source": [
    "model = Binomial(10, 0.25)\n",
    "y = model.pdf(np.arange(0, 10))\n",
    "\n",
    "plt.bar(np.arange(0, 10), y)\n",
    "plt.xlim([-0.5, 10]); plt.ylim([0, 0.3])\n",
    "plt.xlabel(\"$m$\", fontsize=14); plt.ylabel(\"$\\mathrm{Bin}(m|10,0.25)$\", fontsize=14)\n",
    "plt.show()"
   ]
  },
  {
   "cell_type": "markdown",
   "metadata": {
    "pycharm": {
     "name": "#%% md\n"
    }
   },
   "source": [
    "### 2.1.1 The beta distribution"
   ]
  }
 ],
 "metadata": {
  "kernelspec": {
   "display_name": "Python 3",
   "language": "python",
   "name": "python3"
  },
  "language_info": {
   "codemirror_mode": {
    "name": "ipython",
    "version": 3
   },
   "file_extension": ".py",
   "mimetype": "text/x-python",
   "name": "python",
   "nbconvert_exporter": "python",
   "pygments_lexer": "ipython3",
   "version": "3.5.3"
  }
 },
 "nbformat": 4,
 "nbformat_minor": 1
}